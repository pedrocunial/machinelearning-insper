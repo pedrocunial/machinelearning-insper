{
 "cells": [
  {
   "cell_type": "markdown",
   "metadata": {
    "collapsed": true
   },
   "source": [
    "Este material é um mix de material próprio, e material adaptado do livro texto da disciplina e do repositório do autor do livro (https://github.com/ageron/handson-ml)"
   ]
  },
  {
   "cell_type": "markdown",
   "metadata": {},
   "source": [
    "# Modelos lineares"
   ]
  },
  {
   "cell_type": "markdown",
   "metadata": {},
   "source": [
    "Até o momento vimos o processo de construção de uma solução de machine learning:\n",
    "\n",
    "- Aquisição e preparo dos dados\n",
    "- Definição da métrica de desempenho\n",
    "- Separação em conjuntos de treinamento e teste\n",
    "- Investigação dos dados\n",
    "- Escolha de modelo:\n",
    "    - Avaliação de vários modelos usando validação cruzada\n",
    "    - Comparação de métricas de desempenho\n",
    "    - Ajuste de hiperparâmetros\n",
    "- Treinamento final\n",
    "- Teste final\n",
    "- Etapas de producão\n",
    "    - Relatório final\n",
    "    - Operacionalização do modelo em produção\n",
    "\n",
    "Porém neste processo todo nossos modelos eram \"caixas pretas\", não conhecemos nada sobre como os modelos funcionam!\n",
    "\n",
    "Nesta aula vamos começar a investigar os modelos lineares: o que são, e como treina-los. Vamos aprender sobre regressão linear, algoritmos de treinamento, regressão polinomial, overfitting versus underfitting. Na aula seguinte vamos discutir o *tradeoff bias/variance*, estratégias de regularização, regressão logística e softmax."
   ]
  },
  {
   "cell_type": "markdown",
   "metadata": {},
   "source": [
    "**Atividade:**\n",
    "\n",
    "Sem olhar no material de suporte, liste no papel os passos fundamentais de um projeto de machine learning. Vocë tem que conhecer isso de memória!"
   ]
  },
  {
   "cell_type": "markdown",
   "metadata": {},
   "source": [
    "Vamos inicializar algumas bibliotecas padrão de nosso trabalho:"
   ]
  },
  {
   "cell_type": "code",
   "execution_count": 1,
   "metadata": {
    "collapsed": true
   },
   "outputs": [],
   "source": [
    "%matplotlib inline\n",
    "import matplotlib.pyplot as plt\n",
    "import numpy as np\n",
    "\n",
    "RAND_SEED = 42\n",
    "\n",
    "np.random.seed(RAND_SEED)"
   ]
  },
  {
   "cell_type": "markdown",
   "metadata": {},
   "source": [
    "# Revisão"
   ]
  },
  {
   "cell_type": "markdown",
   "metadata": {},
   "source": [
    "## Modelo\n",
    "\n",
    "Em todo problema de machine learning uma amostra de entrada é um vetor \n",
    "\n",
    "$$\\mathbf{x} = (x_1, x_2, \\cdots, x_n)$$\n",
    "\n",
    "de $n$ valores (características ou *features*). (Usaremos fontes em negrito para indicar vetores e matrizes.) \n",
    "\n",
    "Em notação matricial, os vetores são matrizes-coluna:\n",
    "\n",
    "$$\n",
    "\\mathbf{x} = \\left[\n",
    "\\begin{matrix}\n",
    "x_1 \\\\\n",
    "x_2 \\\\\n",
    "\\vdots \\\\\n",
    "x_n\n",
    "\\end{matrix}\n",
    "\\right]\n",
    "$$\n",
    "\n",
    "Vamos trabalhar com as duas notações (vetores e matrizes-coluna) de modo intercambiável, e que ficará evidente no contexto de uso.\n",
    "\n",
    "Uma amostra de saída é um valor que se supõe depender da entrada. Se o valor de saída é contínuo temos um problema de **regressão**, e se o valor é categórico (trata-se de uma classe ou categoria) temos um problema de **classificação**.\n",
    "\n",
    "Um modelo de machine learning é uma função que permite estimar o valor de saída para uma dada amostra de entrada. Esta função depende de **parâmetros** $\\mathbf{\\theta}$, que representam os \"ajustes\" desta função. Ou seja:\n",
    "\n",
    "$$y_{\\text{estimado}} = \\hat{y} = h_{\\mathbf{\\theta}}\\left(\\mathbf{x}\\right)$$\n",
    "\n",
    "## Erro\n",
    "\n",
    "O objetivo principal em um projeto de machine learning é encontrar um modelo que produza boas estimativas, ou seja, estimativas que se aproximem dos valores reais. *Treinamento* é ajustar os parâmetros $\\mathbf{\\theta}$ para conseguir melhores estimativas. \n",
    "\n",
    "Uma estimativa é boa se o **erro** entre a estimativa e o valor real é baixo. A definição do erro depende do problema em questão. Se for uma regressão, então uma medida razoável de erro para uma dada amostra é a diferença entre o valor real e o valor estimado:\n",
    "\n",
    "$$\\text{erro}\\left(\\mathbf{x}, y_{real}, \\mathbf{\\theta} \\right) = y_{\\text{estimado}} - y_{\\text{real}} = h_{\\mathbf{\\theta}}\\left(\\mathbf{x}\\right) - y_{\\text{real}}$$\n",
    "\n",
    "Se desejamos uma métrica positiva de erro, podemos adotar:\n",
    "\n",
    "- o valor absoluto do erro: $\\left| \\,\\text{erro}\\left(\\mathbf{x}, y_{real}, \\mathbf{\\theta} \\right) \\,\\right|$, ou \n",
    "- o valor quadrático do erro: $\\text{erro}\\left(\\mathbf{x}, y_{real}, \\mathbf{\\theta} \\right)^2$\n",
    "\n",
    "Se for um problema de classificação, então o erro pode ser simplesmente o resultado da comparação entre a classe real e a classe estimada.\n",
    "\n",
    "## Erro sobre um conjunto de amostras\n",
    "\n",
    "Será que um modelo é bom? Uma forma de responder esta questão é avaliar o erro médio do classificador sobre um conjunto de exemplos. \n",
    "\n",
    "Para ilustrar essa ideia, vamos considerar um problema de regressão. Seja $\\left(\\mathbf{x}^{(1)}, \\mathbf{x}^{(2)}, \\cdots, \\mathbf{x}^{(m)}\\right)$ uma lista de $m$ amostras, e $\\left(y_{\\text{real}}^{(1)}, y_{\\text{real}}^{(2)}, \\cdots, y_{\\text{real}}^{(m)}\\right)$ os valores dependentes correspondentes. \n",
    "\n",
    "Vamos representar essa informação na forma de uma matriz $\\mathbf{X}$ para as amostras e um vetor $\\mathbf{y}_{\\text{real}}$ para os valores dependentes, ou seja:\n",
    "\n",
    "$$\n",
    "\\mathbf{X} = \\left[\n",
    "\\begin{matrix} \n",
    "\\left(\\mathbf{x}^{(1)}\\right)^{T} \\\\\n",
    "\\left(\\mathbf{x}^{(2)}\\right)^{T} \\\\\n",
    "\\vdots \\\\\n",
    "\\left(\\mathbf{x}^{(m)}\\right)^{T} \\\\\n",
    "\\end{matrix}\n",
    "\\right]\n",
    "\\  \\text{,} \\quad\n",
    "\\mathbf{y}_{\\text{real}} = \\left[\n",
    "\\begin{matrix}\n",
    "y_{\\text{real}}^{(1)} \\\\\n",
    "y_{\\text{real}}^{(1)} \\\\\n",
    "\\vdots \\\\\n",
    "y_{\\text{real}}^{(1)} \\\\\n",
    "\\end{matrix}\n",
    "\\right]\n",
    "$$\n",
    "\n",
    "O erro quadrático médio é (surpresa!) a média do erro quadrático sobre o conjunto de amostras:\n",
    "\n",
    "$$\n",
    "\\varepsilon^2\\left(\\mathbf{X}, \\mathbf{y}_{\\text{real}}, \\mathbf{\\theta}\\right) = \n",
    "\\frac{1}{m} \\sum_{i=1}^{m} \\left(h_{\\mathbf{\\theta}}\\left(\\mathbf{x}^{(i)}\\right) - y_{\\text{real}}^{(i)}\\right)^2\n",
    "$$\n",
    "\n",
    "É comum usarmos a raiz quadrada de $\\varepsilon^2\\left(\\mathbf{X}, \\mathbf{y}_{\\text{real}}, \\mathbf{\\theta}\\right)$, para que o erro esteja descrito nas mesmas unidades de medida da variável dependente. Obtemos então a medida de erro médio conhecida como RMSE (*Root Mean Squared Error*), muito usada em problemas de regressão.\n",
    "\n",
    "$$\n",
    "\\text{RMSE}\\left(\\mathbf{X}, \\mathbf{y}_{\\text{real}}, \\mathbf{\\theta}\\right) \n",
    "= \n",
    "\\sqrt{\\varepsilon^2\\left(\\mathbf{X}, \\mathbf{y}_{\\text{real}}, \\mathbf{\\theta}\\right)}\n",
    "=\n",
    "\\sqrt{\n",
    "    \\frac{1}{m} \n",
    "    \\sum_{i=1}^{m} \n",
    "        \\left(h_{\\mathbf{\\theta}}\\left(\\mathbf{x}^{(i)}\\right) - y_{\\text{real}}^{(i)}\\right)^2\n",
    "}\n",
    "$$\n",
    "\n",
    "## Treinamento\n",
    "\n",
    "Treinar um modelo é achar os parâmetros do modelo que minimizam o erro médio deste em um conjunto de amostras de treinamento. Por exemplo, para o problema de regressão e usando RMSE como métrica de desempenho, temos matematicamente:\n",
    "\n",
    "$$\n",
    "\\mathbf{\\theta}_{\\text{opt}} = \\text{arg min}_{\\mathbf{\\theta}}\\left\\{\\text{RMSE}\\left(\\mathbf{X}_{\\text{train}}, \\mathbf{y}_{\\text{train}}, \\mathbf{\\theta}\\right)\\right\\}\n",
    "$$\n",
    "\n",
    "Para procurar $\\mathbf{\\theta}_{\\text{opt}}$ temos que aplicar um **algoritmo de treinamento** ao nosso modelo e nossas amostras de treinamento. Para cada modelo e métrica de desempenho existe um algoritmo de treinamento. Alguns algoritmos de treinamento são versáteis, e são aplicáveis a vários tipos de modelo - por exemplo, o *método do máximo declive* (**gradient descent**).\n",
    "\n",
    "$$\\mathbf{\\theta}_{\\text{opt}} = \\text{modelo.fit}(\\mathbf{X}_{\\text{train}}, \\mathbf{y}_{\\text{train}})$$\n",
    "\n",
    "Existem parâmetros que não são ajustáveis neste processo, e seus valores devem ser passados para o algoritmo de treinamento. Por exemplo: número máximo de iterações do método de treinamento, valor do parâmetro de regularização, etc. Estes parâmetros extras sao chamados de **hiperparâmetros**. Portanto, é mais correto escrever a expressão acima como:\n",
    "\n",
    "$$\\text{modelo} = \\text{Modelo}(\\mathbf{\\theta}_{\\text{hiper}})$$\n",
    "\n",
    "$$\\mathbf{\\theta}_{\\text{opt}} = \\text{modelo.fit}(\\mathbf{X}_{\\text{train}}, \\mathbf{y}_{\\text{train}})$$\n",
    "\n",
    "## Usando o modelo treinado para fazer predições\n",
    "\n",
    "Finalmente, quando temos o modelo treinado (ou seja, encontramos os parâmetros ótimos $\\mathbf{\\theta}$), podemos usá-lo para fazer predições: seja $\\mathbf{x}_{\\text{novo}}$ uma nova amostra, então a predição $\\hat{y}$ do modelo é calculada como:\n",
    "\n",
    "$$\\hat{y} = h_{\\mathbf{\\theta}_{\\text{opt}}; \\mathbf{\\theta}_{\\text{hiper}}}\\left(\\mathbf{x}_{\\text{novo}}\\right)$$\n",
    "\n",
    "Ou, em pseudo-código:\n",
    "\n",
    "$$\\text{modelo} = \\text{Modelo}(\\mathbf{\\theta}_{\\text{hiper}})$$\n",
    "\n",
    "$$\\mathbf{\\theta}_{\\text{opt}} = \\text{modelo.fit}(\\mathbf{X}_{\\text{train}}, \\mathbf{y}_{\\text{train}})$$\n",
    "\n",
    "$$\\hat{y} = \\text{modelo.predict}(\\mathbf{x}_{\\text{novo}})$$"
   ]
  },
  {
   "cell_type": "markdown",
   "metadata": {},
   "source": [
    "**Atividade:** \n",
    "\n",
    "Isto que foi apresentado é a essência do machine learning para classificação e regressão. Tente explicar, com a formulação matemática adequada, os seguintes conceitos:\n",
    "\n",
    "- Amostra\n",
    "\n",
    "- Característica\n",
    "\n",
    "- Modelo\n",
    "\n",
    "- RMSE\n",
    "\n",
    "- Treinamento\n",
    "\n",
    "- Predição\n",
    "\n",
    "O objetivo é conseguir explicar e escrever as fórmulas correspondentes SEM PRECISAR OLHAR NO MATERIAL DE SUPORTE. Estude o material de suporte o quanto quiser, feche o notebook, e responda a atividade no papel."
   ]
  },
  {
   "cell_type": "markdown",
   "metadata": {},
   "source": [
    "# Regressão linear"
   ]
  },
  {
   "cell_type": "markdown",
   "metadata": {},
   "source": [
    "## Modelo\n",
    "\n",
    "Em um modelo de regressão linear, desejamos obter uma predição de valor $\\hat{y}$ como uma combinação linear dos valores das *features* mais um termo de *offset*.\n",
    "\n",
    "$$\\mathbf{\\theta} = (\\theta_0, \\theta_1, \\cdots, \\theta_n)$$\n",
    "\n",
    "$$\\hat{y} = \\theta_0 + \\theta_1 x_1 + \\theta_2 x_2 + \\cdots + \\theta_n x_n$$\n",
    "\n",
    "Em notação matricial:\n",
    "\n",
    "$$\\hat{y} = \\mathbf{x}^{T} \\mathbf{\\theta}$$\n",
    "\n",
    "onde o vetor $\\mathbf{x}$ de características da amostra é formado pelas características originais e por uma \"característica extra\" que é o valor $1$. Ou seja:\n",
    "\n",
    "$$\\mathbf{x} = \\left[\n",
    "\\begin{matrix}\n",
    "1 \\\\\n",
    "x_1 \\\\\n",
    "x_2 \\\\\n",
    "\\vdots \\\\\n",
    "x_n\n",
    "\\end{matrix}\n",
    "\\right]$$\n",
    "\n",
    "Para um dado conjunto de treinamento, podemos representar as várias quantidades deste problema em uma notação matricial:\n",
    "\n",
    "$$\n",
    "\\mathbf{X}_{\\text{train}} = \\left[\n",
    "\\begin{matrix}\n",
    "\\left(\\mathbf{x}_{\\text{train}}^{(1)}\\right)^{T} \\\\\n",
    "\\left(\\mathbf{x}_{\\text{train}}^{(2)}\\right)^{T} \\\\\n",
    "\\vdots \\\\\n",
    "\\left(\\mathbf{x}_{\\text{train}}^{(m)}\\right)^{T}\n",
    "\\end{matrix}\n",
    "\\right]\n",
    "\\  \\text{,} \\quad\n",
    "\\mathbf{y}_{\\text{train}} = \\left[\n",
    "\\begin{matrix}\n",
    "y_{\\text{train}}^{(1)} \\\\\n",
    "y_{\\text{train}}^{(2)} \\\\\n",
    "\\vdots \\\\\n",
    "y_{\\text{train}}^{(m)} \\\\\n",
    "\\end{matrix}\n",
    "\\right]\n",
    "\\  \\text{,} \\quad\n",
    "\\mathbf{\\theta} = \\left[\n",
    "\\begin{matrix}\n",
    "\\theta_0 \\\\\n",
    "\\theta_1 \\\\\n",
    "\\vdots \\\\\n",
    "\\theta_n\n",
    "\\end{matrix}\n",
    "\\right]\n",
    "\\  \\text{,} \\quad\n",
    "\\hat{\\mathbf{y}} = \\left[\n",
    "\\begin{matrix}\n",
    "\\hat{y}^{(1)} \\\\\n",
    "\\hat{y}^{(2)} \\\\\n",
    "\\vdots \\\\\n",
    "\\hat{y}^{(m)}\n",
    "\\end{matrix}\n",
    "\\right] = \\mathbf{X}_{\\text{train}} \\mathbf{\\theta}\n",
    "$$\n",
    "\n",
    "## Erro quadrático\n",
    "\n",
    "Para um conjunto de amostras de treinamento, o erro quadrático médio é dado por:\n",
    "\n",
    "$$\n",
    "\\varepsilon^2\\left(\\mathbf{X}_{\\text{train}}, \\mathbf{y}_{\\text{train}}, \\mathbf{\\theta}\\right) = \n",
    "\\frac{1}{m} \n",
    "  \\sum_{i=1}^{m} \\left(\n",
    "    h_{\\mathbf{\\theta}}\\left(\\mathbf{x}_{\\text{train}}^{(i)}\\right) - y_{\\text{train}}^{(i)}\n",
    "  \\right)^2 =\n",
    "\\frac{1}{m} \n",
    "  \\sum_{i=1}^{m} \\left(\n",
    "    (\\mathbf{x}_{\\text{train}}^{(i)})^{T} \\mathbf{\\theta} - y_{\\text{train}}^{(i)}\n",
    "  \\right)^2 \n",
    "$$\n",
    "\n",
    "Em notação matricial,\n",
    "\n",
    "$$\n",
    "\\varepsilon^2\\left(\\mathbf{X}_{\\text{train}}, \\mathbf{y}_{\\text{train}}, \\mathbf{\\theta}\\right) = \\\\\n",
    "\\frac{1}{m} (\\mathbf{X}_{\\text{train}} \\mathbf{\\theta} - \\mathbf{y}_{\\text{train}})^T \n",
    "            (\\mathbf{X}_{\\text{train}} \\mathbf{\\theta} - \\mathbf{y}_{\\text{train}}) = \\\\\n",
    "\\frac{1}{m} (\\mathbf{\\theta}^{T} \\mathbf{X}_{\\text{train}}^{T} - \\mathbf{y}_{\\text{train}}^{T})\n",
    "            (\\mathbf{X}_{\\text{train}} \\mathbf{\\theta} - \\mathbf{y}_{\\text{train}}) = \\\\\n",
    "\\frac{1}{m} (\n",
    "    \\mathbf{\\theta}^{T} \\mathbf{X}_{\\text{train}}^{T} \\mathbf{X}_{\\text{train}} \\mathbf{\\theta} \n",
    "  - \\mathbf{\\theta}^{T} \\mathbf{X}_{\\text{train}}^{T} \\mathbf{y}_{\\text{train}}\n",
    "  - \\mathbf{y}_{\\text{train}}^{T} \\mathbf{X}_{\\text{train}} \\mathbf{\\theta}\n",
    "  + \\mathbf{y}_{\\text{train}}^{T} \\mathbf{y}_{\\text{train}}) = \\\\\n",
    "\\frac{1}{m} (\n",
    "    \\mathbf{\\theta}^{T} \\mathbf{X}_{\\text{train}}^{T} \\mathbf{X}_{\\text{train}} \\mathbf{\\theta} \n",
    "  - 2 \\mathbf{\\theta}^{T} \\mathbf{X}_{\\text{train}}^{T} \\mathbf{y}_{\\text{train}}\n",
    "  + \\mathbf{y}_{\\text{train}}^{T} \\mathbf{y}_{\\text{train}})\n",
    "$$\n",
    "\n",
    "Note que se $\\mathbf{X}_{\\text{train}}$ e $\\mathbf{y}_{\\text{train}}$ são quantidades fixas, a única variável aqui é $\\mathbf{\\theta}$.\n",
    "\n",
    "## Gradiente do erro\n",
    "\n",
    "Cálculo matricial: https://en.wikipedia.org/wiki/Matrix_calculus\n",
    "\n",
    "Extraindo as derivadas parciais da função $\\varepsilon^2\\left(\\mathbf{X}_{\\text{train}}, \\mathbf{y}_{\\text{train}}, \\mathbf{\\theta}\\right)$ em relação aos termos $\\theta_i$ temos:\n",
    "\n",
    "$$\n",
    "\\nabla_{\\mathbf{\\theta}} \\varepsilon^2\\left(\\mathbf{X}_{\\text{train}}, \\mathbf{y}_{\\text{train}}, \\mathbf{\\theta}\\right) = \\\\\n",
    "\\frac{1}{m} (\n",
    "    2 \\mathbf{X}_{\\text{train}}^{T} \\mathbf{X}_{\\text{train}} \\mathbf{\\theta} \n",
    "  - 2 \\mathbf{X}_{\\text{train}}^{T} \\mathbf{y}_{\\text{train}})\n",
    "$$\n",
    "\n",
    "## A Equação Normal\n",
    "\n",
    "Nosso objetivo é achar o valor dos parâmetros $\\mathbf{\\theta}$ que minimiza $\\varepsilon^2\\left(\\mathbf{X}_{\\text{train}}, \\mathbf{y}_{\\text{train}}, \\mathbf{\\theta}\\right)$. Para tanto, vamos resolver a equação \n",
    "\n",
    "$$\\nabla_{\\mathbf{\\theta}} \\varepsilon^2\\left(\\mathbf{X}_{\\text{train}}, \\mathbf{y}_{\\text{train}}, \\mathbf{\\theta}\\right) = \\mathbf{0}$$\n",
    "\n",
    "onde $\\mathbf{0}$ é uma matriz-coluna de $m$ zeros.\n",
    "\n",
    "$$\n",
    "\\nabla_{\\mathbf{\\theta}} \\varepsilon^2\\left(\\mathbf{X}_{\\text{train}}, \\mathbf{y}_{\\text{train}}, \\mathbf{\\theta}\\right) = \n",
    "\\mathbf{0} \\\\\n",
    "\\Leftrightarrow \n",
    "\\frac{1}{m} (\n",
    "    2 \\mathbf{X}_{\\text{train}}^{T} \\mathbf{X}_{\\text{train}} \\mathbf{\\theta} \n",
    "  - 2 \\mathbf{X}_{\\text{train}}^{T} \\mathbf{y}_{\\text{train}}) = \\mathbf{0} \\\\\n",
    "\\Leftrightarrow\n",
    "  \\mathbf{X}_{\\text{train}}^{T} \\mathbf{X}_{\\text{train}} \\mathbf{\\theta} = \n",
    "  \\mathbf{X}_{\\text{train}}^{T} \\mathbf{y}_{\\text{train}} \\\\\n",
    "\\Leftrightarrow\n",
    "  \\mathbf{\\theta} = (\\mathbf{X}_{\\text{train}}^{T} \\mathbf{X}_{\\text{train}})^{-1}\n",
    "  \\mathbf{X}_{\\text{train}}^{T} \\mathbf{y}_{\\text{train}}  \n",
    "$$\n",
    "\n",
    "Esta última linha é conhecida como **equação normal** do problema de regressão linear. Será que corresponde a um ponto de mínimo? Calculando a segunda derivada do erro quadrático temos:\n",
    "\n",
    "$$\n",
    "\\nabla^{2}_{\\mathbf{\\theta}} \\varepsilon^2\\left(\\mathbf{X}_{\\text{train}}, \\mathbf{y}_{\\text{train}}, \\mathbf{\\theta}\\right) = \\frac{2}{m} \\mathbf{X}_{\\text{train}}^{T} \\mathbf{X}_{\\text{train}}\n",
    "$$\n",
    "\n",
    "Como a matriz resultante é positiva-definida (https://en.wikipedia.org/wiki/Positive-definite_matrix), temos a segurança de que a resposta da equação normal é realmente um ponto de mínimo!\n",
    "\n",
    "## Usando a equação normal para treinar uma regressão linear\n",
    "\n",
    "Chegamos finalmente ao nosso primeiro algoritmo de treinamento do curso de machine learning! Vamos treinar um modelo de regressão linear usando a equação normal.\n",
    "\n",
    "A vantagem de se usar a equação normal é que a solução final é obtida diretamente por uma fórmula. A desvantagem é que o cálculo desta fórmula não escala bem com o número de *features* do problema, porque a matriz quadrada $\\mathbf{X}_{\\text{train}}^{T} \\mathbf{X}_{\\text{train}}$ deve ser invertida e esta tem tamanho $n \\times n$. Se o número de *features* for muito alto (e.g. pixels em uma imagem) o custo desta operação é alto."
   ]
  },
  {
   "cell_type": "markdown",
   "metadata": {},
   "source": [
    "**Atividade:** Qual a complexidade computacional de se inverter uma matriz?"
   ]
  },
  {
   "cell_type": "markdown",
   "metadata": {},
   "source": [
    "**R:**"
   ]
  },
  {
   "cell_type": "markdown",
   "metadata": {},
   "source": [
    "**Atividade:** Qual a complexidade computacional do treinamento do regressor linear via equação normal, em termos de:\n",
    "\n",
    "- $n$: número de *features*, e\n",
    "- $m$: número de amostras de treinamento?"
   ]
  },
  {
   "cell_type": "markdown",
   "metadata": {},
   "source": [
    "**R:**"
   ]
  },
  {
   "cell_type": "markdown",
   "metadata": {},
   "source": [
    "**Atividade:** Em função dos resultados acima, você recomendaria o uso da equação normal em um problema:\n",
    "\n",
    "1. Com poucas amostras de treinamento e muitas *features*?\n",
    "\n",
    "2. Com muitas amostras de treinamento e poucas *features*?"
   ]
  },
  {
   "cell_type": "markdown",
   "metadata": {},
   "source": [
    "**R:**"
   ]
  },
  {
   "cell_type": "markdown",
   "metadata": {},
   "source": [
    "Vamos gerar alguns pontos de dados para testar nossa regressão linear. Nossa função linear real será $f(x) = 3 x + 4$ e á esta adicionaremos ruído gaussiano de média zero e desvio padrão unitário:"
   ]
  },
  {
   "cell_type": "code",
   "execution_count": 2,
   "metadata": {
    "collapsed": true
   },
   "outputs": [],
   "source": [
    "m = 100\n",
    "\n",
    "X = 2 * np.random.rand(m, 1)  # Gera m pontos aleatórios entre 0 e 2.\n",
    "y = 4 + 3 * X + np.random.randn(m, 1)"
   ]
  },
  {
   "cell_type": "markdown",
   "metadata": {},
   "source": [
    "**Pergunta:** Quais são os parâmetros ótimos esperados ao se treinar um modelo de regressão linear sobre dados gerados por esta código?"
   ]
  },
  {
   "cell_type": "markdown",
   "metadata": {},
   "source": [
    "**R:**"
   ]
  },
  {
   "cell_type": "code",
   "execution_count": 3,
   "metadata": {},
   "outputs": [
    {
     "data": {
      "image/png": "[encoded data removed]",
      "text/plain": [
       "<matplotlib.figure.Figure at 0x7f5441f750f0>"
      ]
     },
     "metadata": {},
     "output_type": "display_data"
    }
   ],
   "source": [
    "X_aux = np.array([[0.0], [2.0]])\n",
    "y_aux = 4 + 3*X_aux\n",
    "\n",
    "plt.figure(figsize=(8,6))\n",
    "plt.plot(X, y, \"b.\")\n",
    "plt.plot(X_aux, y_aux, \"r--\")\n",
    "plt.xlabel(\"$x_1$\", fontsize=18)\n",
    "plt.ylabel(\"$y$\", rotation=0, fontsize=18)\n",
    "plt.axis([0, 2, 0, 15])\n",
    "plt.show()"
   ]
  },
  {
   "cell_type": "markdown",
   "metadata": {},
   "source": [
    "Para usar a equação normal temos que aumentar a matriz de amostras de treinamento com uma coluna extra de valores $1$:"
   ]
  },
  {
   "cell_type": "code",
   "execution_count": 4,
   "metadata": {},
   "outputs": [
    {
     "name": "stdout",
     "output_type": "stream",
     "text": [
      "Tamanho original da matriz de amostras: (100, 1)\n",
      "Algumas das amostras originais:\n",
      "[[0.74908024]\n",
      " [1.90142861]\n",
      " [1.46398788]\n",
      " [1.19731697]\n",
      " [0.31203728]]\n",
      "Tamanho da matriz de amostras aumentada: (100, 2)\n",
      "Algumas das amostras da matriz aumentada:\n",
      "[[1.         0.74908024]\n",
      " [1.         1.90142861]\n",
      " [1.         1.46398788]\n",
      " [1.         1.19731697]\n",
      " [1.         0.31203728]]\n"
     ]
    }
   ],
   "source": [
    "print('Tamanho original da matriz de amostras: {}'.format(X.shape))\n",
    "print('Algumas das amostras originais:\\n{}'.format(X[:5]))\n",
    "\n",
    "# Adicionando uma coluna de 1s.\n",
    "X_b = np.c_[np.ones((m, 1)), X]\n",
    "\n",
    "print('Tamanho da matriz de amostras aumentada: {}'.format(X_b.shape))\n",
    "print('Algumas das amostras da matriz aumentada:\\n{}'.format(X_b[:5]))\n"
   ]
  },
  {
   "cell_type": "markdown",
   "metadata": {},
   "source": [
    "Agora vamos usar a equação normal para calcular os parâmetros ótimos:"
   ]
  },
  {
   "cell_type": "code",
   "execution_count": 5,
   "metadata": {},
   "outputs": [
    {
     "data": {
      "text/plain": [
       "array([[4.21509616],\n",
       "       [2.77011339]])"
      ]
     },
     "execution_count": 5,
     "metadata": {},
     "output_type": "execute_result"
    }
   ],
   "source": [
    "theta_best = np.linalg.inv(X_b.T.dot(X_b)).dot(X_b.T).dot(y)\n",
    "theta_best"
   ]
  },
  {
   "cell_type": "markdown",
   "metadata": {},
   "source": [
    "Chegamos perto do resultado ideal!\n",
    "\n",
    "**Atividade:** Mude o número de pontos de treinamento e veja se os parâmetros ótimos se aproximam dos parâmetros ideais."
   ]
  },
  {
   "cell_type": "markdown",
   "metadata": {},
   "source": [
    "Vamos ver como o modelo se comporta para fazer predições:"
   ]
  },
  {
   "cell_type": "code",
   "execution_count": 6,
   "metadata": {},
   "outputs": [
    {
     "data": {
      "image/png": "[encoded data removed]",
      "text/plain": [
       "<matplotlib.figure.Figure at 0x7f543fda74a8>"
      ]
     },
     "metadata": {},
     "output_type": "display_data"
    }
   ],
   "source": [
    "X_test = np.linspace(0.0, 2.0, num=100).T\n",
    "X_test_b = np.c_[np.ones((len(X_test), 1)), X_test]\n",
    "y_test = X_test_b.dot(theta_best)\n",
    "\n",
    "plt.figure(figsize=(8,6))\n",
    "plt.plot(X, y, \"b.\", label='amostras')\n",
    "plt.plot(X_aux, y_aux, \"r\", label='ideal')\n",
    "plt.plot(X_test, y_test, \"g-\", label='predições')\n",
    "plt.xlabel(\"$x_1$\", fontsize=18)\n",
    "plt.ylabel(\"$y$\", rotation=0, fontsize=18)\n",
    "plt.legend(loc=\"upper left\", fontsize=14)\n",
    "plt.axis([0, 2, 0, 15])\n",
    "plt.show()"
   ]
  },
  {
   "cell_type": "markdown",
   "metadata": {},
   "source": [
    "Vamos comparar nosso preditor com o regressor linear do scikit-learn:"
   ]
  },
  {
   "cell_type": "code",
   "execution_count": 7,
   "metadata": {},
   "outputs": [
    {
     "data": {
      "text/plain": [
       "(array([4.21509616]), array([[2.77011339]]))"
      ]
     },
     "execution_count": 7,
     "metadata": {},
     "output_type": "execute_result"
    }
   ],
   "source": [
    "from sklearn.linear_model import LinearRegression\n",
    "lin_reg = LinearRegression()\n",
    "lin_reg.fit(X, y)\n",
    "lin_reg.intercept_, lin_reg.coef_"
   ]
  },
  {
   "cell_type": "markdown",
   "metadata": {},
   "source": [
    "Resultados identicos!"
   ]
  },
  {
   "cell_type": "markdown",
   "metadata": {},
   "source": [
    "**Atividade:** Escreva seu próprio regressor linear no framework do scikit-learn. Teste o regressor."
   ]
  },
  {
   "cell_type": "code",
   "execution_count": 8,
   "metadata": {},
   "outputs": [
    {
     "data": {
      "text/plain": [
       "array([0., 0., 0., 0., 0., 0., 0., 0., 0., 0., 0., 0., 0., 0., 0., 0., 0.,\n",
       "       0., 0., 0., 0., 0., 0., 0., 0., 0., 0., 0., 0., 0., 0., 0., 0., 0.,\n",
       "       0., 0., 0., 0., 0., 0., 0., 0., 0., 0., 0., 0., 0., 0., 0., 0., 0.,\n",
       "       0., 0., 0., 0., 0., 0., 0., 0., 0., 0., 0., 0., 0., 0., 0., 0., 0.,\n",
       "       0., 0., 0., 0., 0., 0., 0., 0., 0., 0., 0., 0., 0., 0., 0., 0., 0.,\n",
       "       0., 0., 0., 0., 0., 0., 0., 0., 0., 0., 0., 0., 0., 0., 0.])"
      ]
     },
     "execution_count": 8,
     "metadata": {},
     "output_type": "execute_result"
    }
   ],
   "source": [
    "class NormalEquationLinearRegression():\n",
    "    def fit(self, X, y):\n",
    "        pass\n",
    "    \n",
    "    def predict(self, X):\n",
    "        return np.zeros(X.shape[0])\n",
    "    \n",
    "my_reg = NormalEquationLinearRegression()\n",
    "my_reg.fit(X, y)\n",
    "y_pred = my_reg.predict(X_test)\n",
    "y_pred"
   ]
  },
  {
   "cell_type": "markdown",
   "metadata": {},
   "source": [
    "#  Gradient Descent"
   ]
  },
  {
   "cell_type": "markdown",
   "metadata": {},
   "source": [
    "Um outro método de treinamento de uma regressão linear é o método do máximo declive (*gradient descent*). Este método também serve para outros regressores e classificadores, é bastante genérico - usaremos bastante o gradient descent em redes neurais!\n",
    "\n",
    "Este método se baseia na observação seguinte:\n",
    "\n",
    "- O gradiente da função de erro médio é um vetor no espaço de características que aponta na direção de maior crescimento do erro.\n",
    "- Logo, se desejo achar os parâmetros que minimizam o erro, basta andar na direção contrária do gradiente do erro!\n",
    "\n",
    "Ou seja, partindo de um \"chute\" aleatório $\\mathbf{\\theta}_{0}$ dos valores dos parâmetros, vamos iterativamente melhorar nossos parâmetros através de pequenos incrementos neste na direção oposta ao gradiente da função de erro:\n",
    "\n",
    "$$\n",
    "\\mathbf{\\theta}_{i + 1} = \\mathbf{\\theta}_{i} - \\eta \\nabla_{\\mathbf{\\theta}} \\varepsilon^2\\left(\\mathbf{X}_{\\text{train}}, \\mathbf{y}_{\\text{train}}, \\mathbf{\\theta}_{i}\\right)\n",
    "$$\n",
    "\n",
    "O **hiperparâmetro** $\\eta$ é chamado de *passo de aprendizado* (*learning step*) do algoritmo.\n",
    "\n",
    "Continuamos iterando através desta fórmula até que não tenhamos mais mudanças significativas em $\\mathbf{\\theta}$, ou seja: para uma pequena tolerância $\\epsilon > 0$\n",
    "\n",
    "$$\n",
    "\\left| \\, \\mathbf{\\theta}_{i + 1} - \\mathbf{\\theta}_{i} \\, \\right| < \\epsilon\n",
    "$$\n",
    "\n",
    "O **hiperparâmetro** $\\epsilon$ controla a precisão desejada na solução final. Se a tolerância for muito pequena pode ser que o algoritmo não convirja rapidamente. Neste caso é comum definir um número máximo de iterações através de outro **hiperparâmetro** $\\text{max_iter}$."
   ]
  },
  {
   "cell_type": "markdown",
   "metadata": {},
   "source": [
    "**Atividade:** Estude o material do livro texto (Géron), capítulo 4 e responda:\n",
    "\n",
    "- Qual a diferença entre batch gradient descent, stochastic gradient descent, e mini-batch gradient descent?\n",
    "- O que acontece quando $\\eta$ é muito pequeno?\n",
    "- O que acontece quando $\\eta$ é muito grande?\n",
    "- Quais as classes do scikit-learn que implementam regressão linear usando a equação normal no treinamento? Quais usam gradient descent em alguma de suas formas?"
   ]
  },
  {
   "cell_type": "markdown",
   "metadata": {},
   "source": [
    "**R:**"
   ]
  },
  {
   "cell_type": "markdown",
   "metadata": {},
   "source": [
    "**Atividade desafio:**\n",
    "\n",
    "- O que é \"simulated annealing\"? Como você usaria o conceito de simulated annealing para otimizar um modelo de machine learning?"
   ]
  },
  {
   "cell_type": "markdown",
   "metadata": {},
   "source": [
    "# Regressão polinomial"
   ]
  },
  {
   "cell_type": "markdown",
   "metadata": {},
   "source": [
    "E se os dados não se ajustam a uma linha reta (ou um hiperplano, no caso geral)? Considere o seguinte problema:"
   ]
  },
  {
   "cell_type": "code",
   "execution_count": 9,
   "metadata": {
    "collapsed": true
   },
   "outputs": [],
   "source": [
    "np.random.seed(42)\n",
    "\n",
    "m = 100\n",
    "X = 6 * np.random.rand(m, 1) - 3\n",
    "y = 0.5 * X**2 + X + 2 + np.random.randn(m, 1)"
   ]
  },
  {
   "cell_type": "code",
   "execution_count": 10,
   "metadata": {},
   "outputs": [
    {
     "data": {
      "image/png": "[encoded data removed]",
      "text/plain": [
       "<matplotlib.figure.Figure at 0x7f54350a6e48>"
      ]
     },
     "metadata": {},
     "output_type": "display_data"
    }
   ],
   "source": [
    "plt.figure(figsize=(8,6))\n",
    "plt.plot(X, y, \"b.\")\n",
    "plt.xlabel(\"$x_1$\", fontsize=18)\n",
    "plt.ylabel(\"$y$\", rotation=0, fontsize=18)\n",
    "plt.axis([-3, 3, 0, 10])\n",
    "plt.show()"
   ]
  },
  {
   "cell_type": "markdown",
   "metadata": {},
   "source": [
    "Obviamente não podemos atingir um bom *fit* com uma linha reta! A solução para nosso problema é criar novas *features* com valores polinomiais:"
   ]
  },
  {
   "cell_type": "code",
   "execution_count": 11,
   "metadata": {},
   "outputs": [
    {
     "name": "stdout",
     "output_type": "stream",
     "text": [
      "Tamanho original da matriz de amostras: (100, 1)\n",
      "Algumas das amostras originais:\n",
      "[[-0.75275929]\n",
      " [ 2.70428584]\n",
      " [ 1.39196365]\n",
      " [ 0.59195091]\n",
      " [-2.06388816]]\n",
      "Tamanho da matriz de amostras aumentada: (100, 3)\n",
      "Algumas das amostras da matriz aumentada:\n",
      "[[ 1.         -0.75275929  0.56664654]\n",
      " [ 1.          2.70428584  7.3131619 ]\n",
      " [ 1.          1.39196365  1.93756281]\n",
      " [ 1.          0.59195091  0.35040587]\n",
      " [ 1.         -2.06388816  4.25963433]]\n"
     ]
    }
   ],
   "source": [
    "print('Tamanho original da matriz de amostras: {}'.format(X.shape))\n",
    "print('Algumas das amostras originais:\\n{}'.format(X[:5]))\n",
    "\n",
    "# Adicionando uma coluna de 1s.\n",
    "X_b = np.c_[np.ones((m, 1)), X, X**2]\n",
    "\n",
    "print('Tamanho da matriz de amostras aumentada: {}'.format(X_b.shape))\n",
    "print('Algumas das amostras da matriz aumentada:\\n{}'.format(X_b[:5]))"
   ]
  },
  {
   "cell_type": "markdown",
   "metadata": {},
   "source": [
    "Usamos novamente a equação normal para achar os parâmetros ótimos (ou o gradient descent também serve!)"
   ]
  },
  {
   "cell_type": "code",
   "execution_count": 12,
   "metadata": {},
   "outputs": [
    {
     "data": {
      "text/plain": [
       "array([[1.78134581],\n",
       "       [0.93366893],\n",
       "       [0.56456263]])"
      ]
     },
     "execution_count": 12,
     "metadata": {},
     "output_type": "execute_result"
    }
   ],
   "source": [
    "theta_best = np.linalg.inv(X_b.T.dot(X_b)).dot(X_b.T).dot(y)\n",
    "theta_best"
   ]
  },
  {
   "cell_type": "markdown",
   "metadata": {},
   "source": [
    "Agora vamos ver como ficou nosso *fit*:"
   ]
  },
  {
   "cell_type": "code",
   "execution_count": 13,
   "metadata": {},
   "outputs": [
    {
     "data": {
      "image/png": "[encoded data removed]",
      "text/plain": [
       "<matplotlib.figure.Figure at 0x7f54350d1cc0>"
      ]
     },
     "metadata": {},
     "output_type": "display_data"
    }
   ],
   "source": [
    "X_test = np.linspace(-3, 3, num=100).T\n",
    "X_test_b = np.c_[np.ones((m, 1)), X_test, X_test**2]\n",
    "y_test = X_test_b.dot(theta_best)\n",
    "\n",
    "plt.figure(figsize=(8,6))\n",
    "plt.plot(X, y, \"b.\")\n",
    "plt.plot(X_test, y_test, \"r-\")\n",
    "plt.xlabel(\"$x_1$\", fontsize=18)\n",
    "plt.ylabel(\"$y$\", rotation=0, fontsize=18)\n",
    "plt.axis([-3, 3, 0, 10])\n",
    "plt.show()"
   ]
  },
  {
   "cell_type": "markdown",
   "metadata": {},
   "source": [
    "Para criar *features* polinomiais de um grau qualquer em scikit-learn podemos usar a classe ``PolynomialFeatures``:"
   ]
  },
  {
   "cell_type": "code",
   "execution_count": 14,
   "metadata": {},
   "outputs": [
    {
     "name": "stdout",
     "output_type": "stream",
     "text": [
      "(100, 1)\n",
      "(100, 2)\n"
     ]
    }
   ],
   "source": [
    "from sklearn.preprocessing import PolynomialFeatures\n",
    "\n",
    "# Nota: include_bias=False porque o bias (termo constante) já estará incluso no regressor linear.\n",
    "poly_features = PolynomialFeatures(degree=2, include_bias=False)\n",
    "X_poly = poly_features.fit_transform(X)\n",
    "\n",
    "print(X.shape)\n",
    "print(X_poly.shape)"
   ]
  },
  {
   "cell_type": "code",
   "execution_count": 15,
   "metadata": {},
   "outputs": [
    {
     "name": "stdout",
     "output_type": "stream",
     "text": [
      "[-0.75275929]\n",
      "[-0.75275929  0.56664654]\n"
     ]
    }
   ],
   "source": [
    "print(X[0])\n",
    "print(X_poly[0])"
   ]
  },
  {
   "cell_type": "markdown",
   "metadata": {},
   "source": [
    "Podemos então fazer um regressor linear com estes novos dados:"
   ]
  },
  {
   "cell_type": "code",
   "execution_count": 16,
   "metadata": {},
   "outputs": [
    {
     "data": {
      "text/plain": [
       "(array([1.78134581]), array([[0.93366893, 0.56456263]]))"
      ]
     },
     "execution_count": 16,
     "metadata": {},
     "output_type": "execute_result"
    }
   ],
   "source": [
    "lin_reg = LinearRegression()\n",
    "lin_reg.fit(X_poly, y)\n",
    "lin_reg.intercept_, lin_reg.coef_"
   ]
  },
  {
   "cell_type": "markdown",
   "metadata": {},
   "source": [
    "Compare os resultados obtidos aqui com aqueles da equação normal obtidos anteriormente.\n",
    "\n",
    "Assim como o uso de *features* polinomiais leva a um modelo com melhor ajuste, podemos também usar outras funções como *features*, tais como $\\text{log}()$, $\\text{sin}()$, etc."
   ]
  },
  {
   "cell_type": "markdown",
   "metadata": {
    "collapsed": true
   },
   "source": [
    "# Overfitting versus underfitting"
   ]
  },
  {
   "cell_type": "markdown",
   "metadata": {},
   "source": [
    "O que acontece se o grau do *fit* polinomial for muito baixo? E se for muito alto? Vamos experimentar um pouco:"
   ]
  },
  {
   "cell_type": "code",
   "execution_count": 17,
   "metadata": {},
   "outputs": [
    {
     "data": {
      "image/png": "[encoded data removed]",
      "text/plain": [
       "<matplotlib.figure.Figure at 0x7f5435027048>"
      ]
     },
     "metadata": {},
     "output_type": "display_data"
    }
   ],
   "source": [
    "from sklearn.preprocessing import StandardScaler\n",
    "from sklearn.pipeline import Pipeline\n",
    "\n",
    "plt.figure(figsize=(8,6))\n",
    "plt.plot(X, y, \"b.\", linewidth=3)\n",
    "\n",
    "# Experimento 1: grau baixo.\n",
    "poly_reg_1 = Pipeline([\n",
    "        (\"poly_features\", PolynomialFeatures(degree=1, include_bias=False)),\n",
    "        (\"std_scaler\", StandardScaler()), \n",
    "        (\"lin_reg\", LinearRegression())\n",
    "    ])\n",
    "poly_reg_1.fit(X, y)\n",
    "y_test = poly_reg_1.predict(X_test.reshape(-1, 1))\n",
    "plt.plot(X_test, y_test, 'r-', label='grau 1')\n",
    "\n",
    "# Experimento 2: grau adequdo.\n",
    "poly_reg_2 = Pipeline([\n",
    "        (\"poly_features\", PolynomialFeatures(degree=2, include_bias=False)),\n",
    "        (\"std_scaler\", StandardScaler()), \n",
    "        (\"lin_reg\", LinearRegression())\n",
    "    ])\n",
    "poly_reg_2.fit(X, y)\n",
    "y_test = poly_reg_2.predict(X_test.reshape(-1, 1))\n",
    "plt.plot(X_test, y_test, 'b-', label='grau 2')\n",
    "\n",
    "# Experimento 3: grau muito alto.\n",
    "poly_reg_30 = Pipeline([\n",
    "        (\"poly_features\", PolynomialFeatures(degree=30, include_bias=False)),\n",
    "        (\"std_scaler\", StandardScaler()), \n",
    "        (\"lin_reg\", LinearRegression())\n",
    "    ])\n",
    "poly_reg_30.fit(X, y)\n",
    "y_test = poly_reg_30.predict(X_test.reshape(-1, 1))\n",
    "plt.plot(X_test, y_test, 'g-', label='grau 30')\n",
    "\n",
    "plt.legend(loc=\"upper left\")\n",
    "plt.xlabel(\"$x_1$\", fontsize=18)\n",
    "plt.ylabel(\"$y$\", rotation=0, fontsize=18)\n",
    "plt.axis([-3, 3, 0, 10])\n",
    "plt.show()"
   ]
  },
  {
   "cell_type": "markdown",
   "metadata": {},
   "source": [
    "A curva verde, correspondente ao *fit* de grau 30, apresenta *overfitting*. Ao tentar se ajustar o melhor possível aos pontos de dados, a curva tende a apresentar comportamento exagerado fora destes. \n",
    "\n",
    "Uma característica marcante do *overfitting* é que o sistema perde sua capacidade de fazer predições de boa qualidade quando não está na vizinhança de um ponto de treinamento. Dizemos que o sistema não **generaliza** bem. Para observar a capacidade de generalização de um sistema podemos usar a estratégia de validação cruzada e obter uma medida mais realista do RMSE do classificador:"
   ]
  },
  {
   "cell_type": "code",
   "execution_count": 18,
   "metadata": {},
   "outputs": [
    {
     "name": "stdout",
     "output_type": "stream",
     "text": [
      "Fit de grau 1:\n",
      "RMSE = [1.86571015 1.61846216 1.82661634 1.62718083 1.78619243]\n",
      "média = 1.744832382371205, std = 0.10278329304877648\n",
      "\n",
      "Fit de grau 2:\n",
      "RMSE = [0.72745407 0.91894263 1.05905595 0.90376746 0.96825693]\n",
      "média = 0.9154954107199845, std = 0.10853789964899946\n",
      "\n",
      "Fit de grau 30:\n",
      "RMSE = [  1.66691508   1.46233764   1.40230542 285.93551821   1.28032149]\n",
      "média = 58.3494795676653, std = 113.7930880749242\n",
      "\n"
     ]
    }
   ],
   "source": [
    "from sklearn.model_selection import cross_val_score\n",
    "\n",
    "def experiment(reg, X, y, degree):\n",
    "    scores = np.sqrt(-cross_val_score(reg, X, y, cv=5, scoring='neg_mean_squared_error'))\n",
    "    print(\"Fit de grau {}:\\nRMSE = {}\\nmédia = {}, std = {}\\n\".format(degree, scores, scores.mean(), scores.std()))\n",
    "\n",
    "experiment(poly_reg_1, X, y, 1)\n",
    "experiment(poly_reg_2, X, y, 2)\n",
    "experiment(poly_reg_30, X, y, 30)"
   ]
  },
  {
   "cell_type": "markdown",
   "metadata": {},
   "source": [
    "Note que o erro de treinamento conta uma história diferente:"
   ]
  },
  {
   "cell_type": "code",
   "execution_count": 19,
   "metadata": {},
   "outputs": [
    {
     "name": "stdout",
     "output_type": "stream",
     "text": [
      "Fit de grau 1: RMSE = 1.739127354922467\n",
      "Fit de grau 2: RMSE = 0.8815858814376717\n",
      "Fit de grau 30: RMSE = 0.779634106158402\n",
      "Modelo de grau 1: intercept = [3.41307859], coefs = [[1.49826128]]\n",
      "Modelo de grau 2: intercept = [3.41307859], coefs = [[1.65818609 1.50762934]]\n",
      "Modelo de grau 30: intercept = [3.41307839], coefs = [[ 4.91098975e+00  4.94686790e+01 -2.40069384e+02 -2.92827665e+03\n",
      "   8.24031242e+03  7.58971486e+04 -1.47538331e+05 -1.08500367e+06\n",
      "   1.54672079e+06  9.64543120e+06 -1.03275279e+07 -5.70606368e+07\n",
      "   4.64882370e+07  2.34262986e+08 -1.46251057e+08 -6.84887250e+08\n",
      "   3.28057405e+08  1.44526097e+09 -5.28052851e+08 -2.20663888e+09\n",
      "   6.05546780e+08  2.41424698e+09 -4.82904482e+08 -1.84480057e+09\n",
      "   2.54483587e+08  9.34698564e+08 -7.96620371e+07 -2.82095061e+08\n",
      "   1.12147624e+07  3.83794567e+07]]\n"
     ]
    }
   ],
   "source": [
    "from sklearn.metrics import mean_squared_error\n",
    "\n",
    "def final_train_error(X, y, reg):\n",
    "    reg.fit(X, y)\n",
    "    y_pred = reg.predict(X)  # Sim, estou predizendo no conjunto de treinamento.\n",
    "    return np.sqrt(mean_squared_error(y_pred, y))\n",
    "\n",
    "def params_to_str(pipeline):\n",
    "    aux = pipeline.named_steps['lin_reg']\n",
    "    return 'intercept = {}, coefs = {}'.format(aux.intercept_, aux.coef_)\n",
    "\n",
    "print('Fit de grau 1: RMSE = {}'.format(final_train_error(X, y, poly_reg_1)))\n",
    "print('Fit de grau 2: RMSE = {}'.format(final_train_error(X, y, poly_reg_2)))\n",
    "print('Fit de grau 30: RMSE = {}'.format(final_train_error(X, y, poly_reg_30)))\n",
    "\n",
    "print('Modelo de grau 1: {}'.format(params_to_str(poly_reg_1)))\n",
    "print('Modelo de grau 2: {}'.format(params_to_str(poly_reg_2)))\n",
    "print('Modelo de grau 30: {}'.format(params_to_str(poly_reg_30)))"
   ]
  },
  {
   "cell_type": "markdown",
   "metadata": {},
   "source": [
    "Podemos aqui observar uma característica marcante do *overfitting* versus *underfitting*:\n",
    "\n",
    "- **overfitting**: \n",
    "    - O modelo é **complexo demais** (permite sobreajuste, ou *overfitting*)\n",
    "    - erro de treinamento **baixo**\n",
    "    - erro médio de teste **geralmente alto** (mas **ocasionalmente baixo**)\n",
    "    - **variância alta** do erro de teste\n",
    "    \n",
    "- **underfitting**:\n",
    "    - O modelo é **simples demais** (não permite bom ajuste)\n",
    "    - erro de treinamento **alto**\n",
    "    - erro de teste **consistentemente alto**\n",
    "    - **variância baixa** do erro de teste"
   ]
  },
  {
   "cell_type": "markdown",
   "metadata": {},
   "source": [
    "## *Bias/variance tradeoff*"
   ]
  },
  {
   "cell_type": "markdown",
   "metadata": {},
   "source": [
    "E agora, um pouco de matemática!\n",
    "\n",
    "Seja $\\mathbf{D}$ o conjunto de treinamento de nosso modelo, com $m$ amostras de treinamento.\n",
    "\n",
    "Primeiro, observamos o seguinte: para cada possível conjunto de treinamento $\\mathbf{D}$ temos um vetor de parâmetros $\\mathbf{\\theta}_{\\mathbf{D}}$ diferente, e consequentemente um modelo $h_{\\mathbf{\\theta}_{\\mathbf{D}}}(\\mathbf{x})$ diferente.\n",
    "\n",
    "Logo, para um determinado valor de $\\mathbf{x}$, temos que $h_{\\mathbf{\\theta}_{\\mathbf{D}}}(\\mathbf{x})$ é uma variável aleatória sobre o conjunto de todos os possíveis conjuntos de treinamento $\\mathbf{D}$. Vamos definir a média e a variância desta variável aleatória (para um dado $\\mathbf{x}$, não se esqueça) como:\n",
    "\n",
    "$$\n",
    "\\mu_{h}(x) = E_{\\mathbf{D}}\\left[h_{\\mathbf{\\theta}_{\\mathbf{D}}}(\\mathbf{x})\\right]\n",
    "$$\n",
    "\n",
    "e\n",
    "\n",
    "$$\n",
    "\\sigma_{h}^2(x) = E_{\\mathbf{D}}\\left[ \\left(\n",
    "    h_{\\mathbf{\\theta}_{\\mathbf{D}}}(\\mathbf{x}) - \\mu_{h}(x)\n",
    "\\right)^2 \\right]\n",
    "$$\n",
    "\n",
    "Respire, respire...\n",
    "\n",
    "Agora vamos aos dados: vamos imaginar que nossos dados *observados* são da seguinte forma:\n",
    "\n",
    "$$\n",
    "(\\text{valor observado}) = (\\text{valor real}) + (\\text{ruído e outros erros})\n",
    "$$\n",
    "\n",
    "Dando nomes aos bois, seja $y(\\mathbf{x})$ o valor observado da variável dependente para uma amostra de entrada $\\mathbf{x}$, $t(\\mathbf{x})$ o valor real (true) da variável dependente, e $\\varepsilon$ o ruído, que é uma variável aleatória independente de média zero e variância $\\sigma_{\\varepsilon}^2 = E\\left[ \\varepsilon^2 \\right]$. Então a pseudo-equação acima fica sendo:\n",
    "\n",
    "$$\n",
    "y(\\mathbf{x}) = t(\\mathbf{x}) + \\varepsilon\n",
    "$$\n",
    "\n",
    "Respire, respire...\n",
    "\n",
    "Agora vamos juntar tudo. O erro entre o valor observado e o valor predito é\n",
    "\n",
    "$$\n",
    "y(\\mathbf{x}) - h_{\\mathbf{\\theta}_{\\mathbf{D}}}(\\mathbf{x})\n",
    "$$\n",
    "\n",
    "O erro quadrático é \n",
    "\n",
    "$$\n",
    "\\left(y(\\mathbf{x}) - h_{\\mathbf{\\theta}_{\\mathbf{D}}}(\\mathbf{x})\\right)^2\n",
    "$$\n",
    "\n",
    "e - leia com calma - *o erro médio quadrático sobre todas as amostras possíveis, para um dado conjunto de treinamento* é, portanto:\n",
    "\n",
    "$$\n",
    "\\text{MSE}_{\\mathbf{D}} = E_{\\mathbf{x}}\\left[\\left(y(\\mathbf{x}) - h_{\\mathbf{\\theta}_{\\mathbf{D}}}(\\mathbf{x})\\right)^2\\right]\n",
    "$$\n",
    "\n",
    "Ainda sobrou uma incerteza no processo: o conjunto de treinamento $\\mathbf{D}$. Nossa estimativa final de erro é o *valor esperado do erro quadrático médio $\\text{MSE}_{\\mathbf{D}}$ sobre todos os possíveis conjuntos de treinamento*, ou seja:\n",
    "\n",
    "$$\n",
    "\\text{MSE} = E_{\\mathbf{D}} \\left[ E_{\\mathbf{x}} \\left[ \n",
    "\\left(y(\\mathbf{x}) - h_{\\mathbf{\\theta}_{\\mathbf{D}}}(\\mathbf{x})\\right)^2\n",
    "\\right] \\right]\n",
    "$$\n",
    "\n",
    "Podemos demonstrar que essa expressão pode ser escrita como:\n",
    "\n",
    "$$\n",
    "\\text{MSE} = \n",
    "\\underbrace{E_{\\mathbf{x}} \\left[ \\left( t(\\mathbf{x}) - \\mu_{h}(x) \\right)^2 \\right]}_{\\text{bias}}\n",
    "+ \\underbrace{E_{\\mathbf{x}} \\left[ \\sigma_{h}^2(x) \\right] }_{\\text{variance}}\n",
    "+ \\underbrace{\\sigma_{\\varepsilon}^2}_{\\text{erro intrínseco}}\n",
    "$$\n",
    "\n",
    "Ufa! Este é um resultado famoso de machine learning, conhecido como \"Bias/Variance tradeoff\". Representa o seguinte: para um regressor qualquer o MSE esperado é composto de três partes:\n",
    "\n",
    "- *Bias* (ou viés): O termo $E_{\\mathbf{x}} \\left[ \\left( t(\\mathbf{x}) - \\mu_{h}(x) \\right)^2 \\right]$ é uma componente do erro que independe do conjunto de testes, e que mede a competência intrínseca do modelo. Modelos muito simples (*underfitting*) tem essa componente de viés alta, pois trata-se de um erro sistêmico.\n",
    "\n",
    "- *Variance*: O termo $E_{\\mathbf{x}} \\left[ \\sigma_{h}^2(x) \\right]$ representa a volatilidade do modelo em relação ao conjunto de testes usado. Modelos muito complexos (*overfitting*) tem essa componente do erro alta.\n",
    "\n",
    "- Erro intrínseco: Esta componente do erro está relacionada com a qualidade do dado adquirido: quanto mais ruidoso, pior o desempenho ótimo do nosso sistema.\n",
    "\n",
    "O qualificador *trade-off* vem do fato de que quando o *bias* aumenta, cai a *variance*, e vice versa. Existe um ponto de ótimo, contudo."
   ]
  },
  {
   "cell_type": "markdown",
   "metadata": {},
   "source": [
    "## Curvas de aprendizado"
   ]
  },
  {
   "cell_type": "markdown",
   "metadata": {},
   "source": [
    "O que quer dizer que um modelo é muito complexo? É um modelo que tem parâmetros de ajuste em excesso *em relação ao volume de dados de teste*. Um modelo tido como complexo para um conjunto pequeno de dados pode ser um modelo muito simples ao se considerar um conjunto maior de dados. Vamos explorar esse conceito em um experimento:"
   ]
  },
  {
   "cell_type": "code",
   "execution_count": 20,
   "metadata": {
    "collapsed": true
   },
   "outputs": [],
   "source": [
    "from sklearn.metrics import mean_squared_error\n",
    "from sklearn.model_selection import train_test_split\n",
    "\n",
    "def plot_learning_curves(model, X, y, ax1, ax2, step=5):\n",
    "    # Separa 20% para validação.\n",
    "    X_train, X_val, y_train, y_val = train_test_split(X, y, test_size=0.2, random_state=RAND_SEED)\n",
    "    \n",
    "    train_errors, val_errors = [], []\n",
    "    \n",
    "    # Para cada tamanho do conjunto de treinamento...\n",
    "    for m in range(1, len(X_train)):\n",
    "        mean_RMSE_train = 0.0\n",
    "        mean_RMSE_val = 0.0\n",
    "        \n",
    "        count = 0\n",
    "        for i in range(0, len(X_train) - m, step):\n",
    "            # Ajusta modelo com apenas m amostras de treinamento.\n",
    "            model.fit(X_train[i:(i+m)], y_train[i:(i+m)])\n",
    "\n",
    "            # Faz a previsão sobre o conjunto de treinamento (para obter o erro de treinamento)\n",
    "            # e sobre o conjunto de validação.\n",
    "            y_train_predict = model.predict(X_train[i:(i+m)])\n",
    "            y_val_predict = model.predict(X_val)\n",
    "\n",
    "            # Calcula o valor do RMSE\n",
    "            RMSE_train = np.sqrt(mean_squared_error(y_train_predict, y_train[i:(i+m)]))\n",
    "            RMSE_val = np.sqrt(mean_squared_error(y_val_predict, y_val))\n",
    "            \n",
    "            mean_RMSE_train += RMSE_train\n",
    "            mean_RMSE_val += RMSE_val\n",
    "            count += 1\n",
    "\n",
    "        # Armazena ambos os valores de RMSE.\n",
    "        mean_RMSE_train /= count\n",
    "        mean_RMSE_val /= count\n",
    "        \n",
    "        train_errors.append(mean_RMSE_train)\n",
    "        val_errors.append(mean_RMSE_val)\n",
    "\n",
    "    plt.figure(figsize=(8,6))\n",
    "    plt.plot(np.sqrt(train_errors), \"r-\", linewidth=2, label=\"train\")\n",
    "    plt.plot(np.sqrt(val_errors), \"b-\", linewidth=3, label=\"val\")\n",
    "    plt.axis(ax1)\n",
    "    plt.legend(loc=\"upper right\", fontsize=14)\n",
    "    plt.xlabel(\"Training set size\", fontsize=14)\n",
    "    plt.ylabel(\"RMSE\", fontsize=14)\n",
    "\n",
    "    plt.figure(figsize=(8,6))\n",
    "    plt.plot(np.sqrt(train_errors), \"r-\", linewidth=2, label=\"train\")\n",
    "    plt.plot(np.sqrt(val_errors), \"b-\", linewidth=3, label=\"val\")\n",
    "    plt.axis(ax2)\n",
    "    plt.legend(loc=\"upper right\", fontsize=14)\n",
    "    plt.xlabel(\"Training set size\", fontsize=14)\n",
    "    plt.ylabel(\"RMSE\", fontsize=14)\n",
    "    plt.show()"
   ]
  },
  {
   "cell_type": "code",
   "execution_count": 21,
   "metadata": {
    "scrolled": false
   },
   "outputs": [
    {
     "data": {
      "image/png": "[encoded data removed]",
      "text/plain": [
       "<matplotlib.figure.Figure at 0x7f5441f84048>"
      ]
     },
     "metadata": {},
     "output_type": "display_data"
    },
    {
     "data": {
      "image/png": "[encoded data removed]",
      "text/plain": [
       "<matplotlib.figure.Figure at 0x7f543fdd9358>"
      ]
     },
     "metadata": {},
     "output_type": "display_data"
    }
   ],
   "source": [
    "plot_learning_curves(poly_reg_1, X, y, [0, 80, 0, 3], [0, 20, 0, 2], 1)"
   ]
  },
  {
   "cell_type": "code",
   "execution_count": 22,
   "metadata": {},
   "outputs": [
    {
     "data": {
      "image/png": "[encoded data removed]",
      "text/plain": [
       "<matplotlib.figure.Figure at 0x7f54350242e8>"
      ]
     },
     "metadata": {},
     "output_type": "display_data"
    },
    {
     "data": {
      "image/png": "[encoded data removed]",
      "text/plain": [
       "<matplotlib.figure.Figure at 0x7f5434ffb8d0>"
      ]
     },
     "metadata": {},
     "output_type": "display_data"
    }
   ],
   "source": [
    "plot_learning_curves(poly_reg_2, X, y, [0, 80, 0, 1e1], [0, 20, 0, 2], 1)"
   ]
  },
  {
   "cell_type": "code",
   "execution_count": 23,
   "metadata": {},
   "outputs": [
    {
     "data": {
      "image/png": "[encoded data removed]",
      "text/plain": [
       "<matplotlib.figure.Figure at 0x7f543fce50b8>"
      ]
     },
     "metadata": {},
     "output_type": "display_data"
    },
    {
     "data": {
      "image/png": "[encoded data removed]",
      "text/plain": [
       "<matplotlib.figure.Figure at 0x7f543fce06d8>"
      ]
     },
     "metadata": {},
     "output_type": "display_data"
    }
   ],
   "source": [
    "plot_learning_curves(poly_reg_30, X, y, [0, 80, 0, 4e20], [0, 80, 0, 2], 1)"
   ]
  },
  {
   "cell_type": "code",
   "execution_count": 24,
   "metadata": {},
   "outputs": [
    {
     "data": {
      "image/png": "[encoded data removed]",
      "text/plain": [
       "<matplotlib.figure.Figure at 0x7f543fd2e5f8>"
      ]
     },
     "metadata": {},
     "output_type": "display_data"
    },
    {
     "data": {
      "image/png": "[encoded data removed]",
      "text/plain": [
       "<matplotlib.figure.Figure at 0x7f5435065e80>"
      ]
     },
     "metadata": {},
     "output_type": "display_data"
    }
   ],
   "source": [
    "poly_reg_10 = Pipeline([\n",
    "        (\"poly_features\", PolynomialFeatures(degree=10, include_bias=False)),\n",
    "        (\"std_scaler\", StandardScaler()), \n",
    "        (\"lin_reg\", LinearRegression())\n",
    "    ])\n",
    "\n",
    "plot_learning_curves(poly_reg_10, X, y, [0, 80, 0, 500], [0, 80, 0, 2])"
   ]
  },
  {
   "cell_type": "markdown",
   "metadata": {},
   "source": [
    "Podemos observar quando um ajuste passa de *overfit* para ajuste normal conforme o número de dados de treinamento aumenta!"
   ]
  },
  {
   "cell_type": "markdown",
   "metadata": {},
   "source": [
    "**Atividade:**\n",
    "\n",
    "Explique:\n",
    "\n",
    "- Porque o erro do modelo ``poly_reg_1`` é maior que o erro do modelo ``poly_reg_2``?\n",
    "\n",
    "- Porque o erro do modelo ``poly_reg_30`` é maior que o erro do modelo ``poly_reg_2``?\n",
    "\n",
    "- Porque na curva RMSE versus tamanho do conjunto de treinamento observamos, para o modelo de grau 10, que o erro de treinamento é zero até que o conjunto de treinamento tenha mais de 10 amostras?\n",
    "\n",
    "- Para as curvas relacionadas a modelos complexos, eventualmente o erro tende a aproximadamente $\\text{RMSE} = 1$ neste problema-exemplo. Explique em termos de *bias*, variância, e erro intrínseco. (Compare com os dados originais.)"
   ]
  },
  {
   "cell_type": "markdown",
   "metadata": {},
   "source": [
    "**R:**"
   ]
  },
  {
   "cell_type": "markdown",
   "metadata": {},
   "source": [
    "# Regularização"
   ]
  },
  {
   "cell_type": "markdown",
   "metadata": {},
   "source": [
    "Conforme vimos acima, um modelo muito complexo pode sofrer do problema de *overfitting*. Uma forma de domar a complexidade do modelo é limitar o número de *features*. Por exemplo, usando *features* polinomiais, podemos limitar o grau do polinômio.\n",
    "\n",
    "Outra forma de tratar a complexidade dos modelos é através da estratégia de *regularização*. Trata-se do seguinte:\n",
    "\n",
    "1. Definimos métricas diferentes de erro para a fase de treinamento e a fase de testes.\n",
    "    - Na fase de treinamento usamos uma *métrica regularizada*\n",
    "    - Na fase de testes usamos uma métrica convencional\n",
    "    \n",
    "2. A métrica regularizada funciona assim: trata-se da métrica convencional acrescida de um termo que *penaliza a complexidade do modelo*.\n",
    "\n",
    "Com isso favorecemos modelos de complexidade reduzida, mesmo que o grau do polinômio seja alto."
   ]
  },
  {
   "cell_type": "markdown",
   "metadata": {},
   "source": [
    "## Ridge, Lasso e ElasticNet"
   ]
  },
  {
   "cell_type": "markdown",
   "metadata": {},
   "source": [
    "Nestas modalidades de regularização adicionamos uma penalidade para a norma do vetor de parâmetros:\n",
    "\n",
    "- Ridge: a penalidade é proporcional à norma $L_2$ do vetor de parâmetros.\n",
    "\n",
    "- Lasso: a penalidade é proporcional à norma $L_1$ do vetor de parâmetros.\n",
    "\n",
    "- ElasticNet: uma soma ponderada de penalidades proporcionais às normas $L_1$ e $L_2$ do vetor de parâmetros é aplicada.\n"
   ]
  },
  {
   "cell_type": "markdown",
   "metadata": {},
   "source": [
    "**Atividade:** O material do livro-texto, na seção \"Regularized Linear Models\" está muito bom, estude este material e responda:\n",
    "\n",
    "- Qual a diferença entre *ridge regression*, *lasso regression*, e *elastic net*?"
   ]
  },
  {
   "cell_type": "markdown",
   "metadata": {},
   "source": [
    "**R:**"
   ]
  },
  {
   "cell_type": "markdown",
   "metadata": {},
   "source": [
    "Eis aqui uma demonstração das várias regularizações:"
   ]
  },
  {
   "cell_type": "code",
   "execution_count": 25,
   "metadata": {},
   "outputs": [
    {
     "name": "stdout",
     "output_type": "stream",
     "text": [
      "Fit de grau 2, sem regularização: \n",
      "intercept = [3.30865662],\n",
      "coefs = [[1.64753834 1.53790685]]\n",
      "RMSE: 0.7973961420035093\n",
      "\n",
      "Fit de grau 30, sem regularização: \n",
      "intercept = [3.30865747],\n",
      "coefs = [[ 5.74890605e+00  7.65412342e+01 -3.20424170e+02 -5.00447282e+03\n",
      "   1.02431592e+04  1.32630462e+05 -1.66476968e+05 -1.89090983e+06\n",
      "   1.59008342e+06  1.66380109e+07 -9.73196560e+06 -9.73335585e+07\n",
      "   4.03134823e+07  3.95625623e+08 -1.16904707e+08 -1.14689460e+09\n",
      "   2.41702367e+08  2.40309003e+09 -3.58123499e+08 -3.64709792e+09\n",
      "   3.77168144e+08  3.96961975e+09 -2.75377249e+08 -3.01948540e+09\n",
      "   1.32343047e+08  1.52357299e+09 -3.75991314e+07 -4.58068016e+08\n",
      "   4.77598019e+06  6.20963009e+07]]\n",
      "RMSE: 1.599398876922288\n",
      "\n",
      "Fit de grau 30, regularização ridge: \n",
      "intercept = [3.30865662],\n",
      "coefs = [[ 1.72386754  2.03481014 -0.03808553 -0.54459052  0.12822013 -0.0309539\n",
      "   0.3010587   0.30461785  0.13263805  0.24127101 -0.1305415   0.01320737\n",
      "  -0.321266   -0.21039259 -0.39616419 -0.35184587 -0.369876   -0.39028798\n",
      "  -0.27208605 -0.33413494 -0.13030216 -0.20426787  0.03455388 -0.02455552\n",
      "   0.20785709  0.18302012  0.3798212   0.40044963  0.54409115  0.61418915]]\n",
      "RMSE: 0.8233283118819997\n",
      "\n",
      "Fit de grau 30, regularização lasso: \n",
      "intercept = [3.30865662],\n",
      "coefs = [1.53724129 1.42760975 0.         0.         0.         0.\n",
      " 0.         0.         0.         0.         0.         0.\n",
      " 0.         0.         0.         0.         0.         0.\n",
      " 0.         0.         0.         0.         0.         0.\n",
      " 0.         0.         0.         0.         0.         0.        ]\n",
      "RMSE: 0.7969066013645282\n",
      "\n",
      "Fit de grau 30, regularização elastic net: \n",
      "intercept = [3.30865662],\n",
      "coefs = [ 1.39007172  1.22526569  0.13210081  0.19649321  0.          0.\n",
      "  0.          0.          0.          0.         -0.          0.\n",
      " -0.          0.         -0.          0.         -0.          0.\n",
      "  0.          0.          0.          0.          0.          0.\n",
      "  0.          0.          0.          0.          0.          0.        ]\n",
      "RMSE: 0.8036685883476764\n",
      "\n"
     ]
    }
   ],
   "source": [
    "from sklearn.linear_model import ElasticNet, Lasso, Ridge\n",
    "from sklearn.metrics import mean_squared_error\n",
    "from sklearn.model_selection import train_test_split\n",
    "\n",
    "def experiment(msg, pipeline, X_train, y_train, X_test, y_test):\n",
    "    pipeline.fit(X_train, y_train)\n",
    "    \n",
    "    model = pipeline.named_steps['lin_reg']\n",
    "    print('{}: \\nintercept = {},\\ncoefs = {}'.format(msg, model.intercept_, model.coef_))\n",
    "    \n",
    "    y_pred = pipeline.predict(X_test)\n",
    "    RMSE = np.sqrt(mean_squared_error(y_pred, y_test))\n",
    "    print('RMSE: {}'.format(RMSE))\n",
    "    print()\n",
    "    \n",
    "    \n",
    "X_train, X_test, y_train, y_test = train_test_split(X, y, test_size=0.2, random_state=RAND_SEED)\n",
    "\n",
    "alpha = 1e-1\n",
    "\n",
    "# Testa o fit do poly_reg_2.\n",
    "experiment('Fit de grau 2, sem regularização', poly_reg_2, X_train, y_train, X_test, y_test)\n",
    "\n",
    "# Testa o fit do poly_reg_30.\n",
    "experiment('Fit de grau 30, sem regularização', poly_reg_30, X_train, y_train, X_test, y_test)\n",
    "\n",
    "# Testa o fit da regularização ridge. \n",
    "poly_reg_ridge = Pipeline([\n",
    "        (\"poly_features\", PolynomialFeatures(degree=30, include_bias=False)),\n",
    "        (\"std_scaler\", StandardScaler()), \n",
    "        (\"lin_reg\", Ridge(alpha=alpha))\n",
    "    ])\n",
    "experiment('Fit de grau 30, regularização ridge', poly_reg_ridge, X_train, y_train, X_test, y_test)\n",
    "\n",
    "# Test o fit da regularização lasso.\n",
    "poly_reg_lasso = Pipeline([\n",
    "        (\"poly_features\", PolynomialFeatures(degree=30, include_bias=False)),\n",
    "        (\"std_scaler\", StandardScaler()), \n",
    "        (\"lin_reg\", Lasso(alpha=alpha))\n",
    "    ])\n",
    "experiment('Fit de grau 30, regularização lasso', poly_reg_lasso, X_train, y_train, X_test, y_test)\n",
    "\n",
    "# Test o fit da regularização elastic net.\n",
    "poly_reg_elasticnet = Pipeline([\n",
    "        (\"poly_features\", PolynomialFeatures(degree=30, include_bias=False)),\n",
    "        (\"std_scaler\", StandardScaler()), \n",
    "        (\"lin_reg\", ElasticNet(alpha=alpha, l1_ratio=0.5, random_state=RAND_SEED))\n",
    "    ])\n",
    "experiment('Fit de grau 30, regularização elastic net', poly_reg_elasticnet, X_train, y_train, X_test, y_test)"
   ]
  },
  {
   "cell_type": "markdown",
   "metadata": {},
   "source": [
    "**Atividade:** \n",
    "\n",
    "- Coloque o $\\alpha$ bem alto, o que acontece?\n",
    "\n",
    "- Coloque o $\\alpha$ muito baixo, o que acontece?\n",
    "\n",
    "- Explique a diferença observada entre sem regularização / regularização ridge / regularização lasso / regularização elastic net."
   ]
  },
  {
   "cell_type": "markdown",
   "metadata": {},
   "source": [
    "**R:**"
   ]
  },
  {
   "cell_type": "markdown",
   "metadata": {
    "collapsed": true
   },
   "source": [
    "## Regularização por parada prematura (*early stopping*)"
   ]
  },
  {
   "cell_type": "markdown",
   "metadata": {},
   "source": [
    "Um modo bizarro de regularização é o chamado *early stopping*.\n",
    "\n",
    "Considere o algoritmo de treinamento *gradient descent*. Quanto mais iteramos neste algoritmo (em machine learning, as iterações são chamadas **epochs**), menor o *erro de treinamento*. Porém, se acompanharmos o *erro de validação* à cada epoch, vemos que este decresce com as epochs até um certo ponto, *e depois começa a subir novamente*!\n",
    "\n",
    "<img src=\"./early_stopping_plot.png\" alt=\"Regularização por parada prematura\" style=\"width: 600px;\"/>\n",
    "\n",
    "\n",
    "**Atividade:** Por que isso acontece?"
   ]
  },
  {
   "cell_type": "markdown",
   "metadata": {},
   "source": [
    "**R:**"
   ]
  },
  {
   "cell_type": "markdown",
   "metadata": {},
   "source": [
    "Continuando:\n",
    "\n",
    "Portanto, se detectarmos que o erro de validação está realmente subindo, podemos parar com o processo de treinamento e adotar o modelo resultante como o nosso modelo treinado! Esta estratégia de *parada prematura* (early stopping) é surpreendentemente simples e eficaz!"
   ]
  },
  {
   "cell_type": "code",
   "execution_count": null,
   "metadata": {
    "collapsed": true
   },
   "outputs": [],
   "source": []
  }
 ],
 "metadata": {
  "kernelspec": {
   "display_name": "Python 3",
   "language": "python",
   "name": "python3"
  },
  "language_info": {
   "codemirror_mode": {
    "name": "ipython",
    "version": 3
   },
   "file_extension": ".py",
   "mimetype": "text/x-python",
   "name": "python",
   "nbconvert_exporter": "python",
   "pygments_lexer": "ipython3",
   "version": "3.6.3"
  },
  "toc": {
   "nav_menu": {},
   "number_sections": true,
   "sideBar": true,
   "skip_h1_title": false,
   "toc_cell": false,
   "toc_position": {},
   "toc_section_display": "block",
   "toc_window_display": false
  }
 },
 "nbformat": 4,
 "nbformat_minor": 2
}
